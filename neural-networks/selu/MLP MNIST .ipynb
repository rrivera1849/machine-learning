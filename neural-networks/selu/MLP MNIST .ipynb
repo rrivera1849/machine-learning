{
 "cells": [
  {
   "cell_type": "code",
   "execution_count": 1,
   "metadata": {
    "collapsed": false
   },
   "outputs": [],
   "source": [
    "import os\n",
    "from math import sqrt\n",
    "from collections import OrderedDict\n",
    "\n",
    "import torch\n",
    "import torch.nn as nn\n",
    "import torch.nn.init as init\n",
    "import torch.optim as optim\n",
    "import torch.nn.functional as F\n",
    "from torch.autograd import Variable\n",
    "from torch.utils.data import DataLoader\n",
    "\n",
    "import torchvision.datasets as datasets\n",
    "import torchvision.transforms as transforms\n",
    "\n",
    "from sklearn.preprocessing import StandardScaler\n",
    "import matplotlib.pyplot as plt\n",
    "\n",
    "%load_ext autoreload\n",
    "%autoreload 2"
   ]
  },
  {
   "cell_type": "code",
   "execution_count": 2,
   "metadata": {
    "collapsed": false
   },
   "outputs": [],
   "source": [
    "root_dir = os.path.join('.', 'data')\n",
    "\n",
    "if not os.path.exists(root_dir):\n",
    "    os.mkdir(root_dir)\n",
    "\n",
    "transform = transforms.Compose([\n",
    "    transforms.ToTensor(),\n",
    "    transforms.Normalize((0.1307,), (0.3081,))\n",
    "])\n",
    "\n",
    "dataset = datasets.MNIST(root_dir, train=True, transform=transform, download=True)"
   ]
  },
  {
   "cell_type": "code",
   "execution_count": 3,
   "metadata": {
    "collapsed": true
   },
   "outputs": [],
   "source": [
    "data_loader = DataLoader(dataset, shuffle=True, batch_size=100)"
   ]
  },
  {
   "cell_type": "code",
   "execution_count": 4,
   "metadata": {
    "collapsed": true
   },
   "outputs": [],
   "source": [
    "class Flatten(nn.Module):\n",
    "    def __init__(self):\n",
    "        super(Flatten, self).__init__()\n",
    "    \n",
    "    def forward(self, input):\n",
    "        B, C, H, W = input.size()\n",
    "        return input.view(B, -1)\n",
    "\n",
    "    def __repr__(self):\n",
    "        return self.__class__.__name__ + ' ()'"
   ]
  },
  {
   "cell_type": "code",
   "execution_count": 5,
   "metadata": {
    "collapsed": false
   },
   "outputs": [],
   "source": [
    "class SELU(nn.Module):\n",
    "    def __init__(self, \n",
    "                 alpha = 1.6732632423543772848170429916717, \n",
    "                 scale = 1.0507009873554804934193349852946, \n",
    "                 inplace=False):\n",
    "        super(SELU, self).__init__()\n",
    "        self.alpha = alpha\n",
    "        self.scale = scale\n",
    "        self.inplace = inplace\n",
    "\n",
    "    def forward(self, input):\n",
    "        return self.scale * F.elu(input, self.alpha, self.inplace)\n",
    "\n",
    "    def __repr__(self):\n",
    "        inplace_str = ', inplace' if self.inplace else ''\n",
    "        return self.__class__.__name__ + ' (' \\\n",
    "            + 'alpha=' + str(self.alpha) \\\n",
    "            + ' scale=' + str(self.scale) \\\n",
    "            + inplace_str + ')'"
   ]
  },
  {
   "cell_type": "code",
   "execution_count": 6,
   "metadata": {
    "collapsed": false
   },
   "outputs": [
    {
     "name": "stdout",
     "output_type": "stream",
     "text": [
      "Sequential (\n",
      "  (flatten): Flatten ()\n",
      "  (linear_1): Linear (784 -> 784)\n",
      "  (a1): SELU (alpha=1.6732632423543772 scale=1.0507009873554805, inplace)\n",
      "  (linear_2): Linear (784 -> 784)\n",
      "  (a2): SELU (alpha=1.6732632423543772 scale=1.0507009873554805, inplace)\n",
      "  (linear_3): Linear (784 -> 10)\n",
      ")\n",
      "Sequential (\n",
      "  (flatten): Flatten ()\n",
      "  (linear_1): Linear (784 -> 784)\n",
      "  (a1): ReLU (inplace)\n",
      "  (linear_2): Linear (784 -> 784)\n",
      "  (a2): ReLU (inplace)\n",
      "  (linear_3): Linear (784 -> 10)\n",
      ")\n"
     ]
    }
   ],
   "source": [
    "model_selu = nn.Sequential(OrderedDict([\n",
    "    ('flatten', Flatten()),\n",
    "    ('linear_1', nn.Linear(784, 784)),\n",
    "    ('a1', SELU(inplace=True)),\n",
    "    ('linear_2', nn.Linear(784, 784)),\n",
    "    ('a2', SELU(inplace=True)),\n",
    "    ('linear_3', nn.Linear(784, 10))\n",
    "]))\n",
    "\n",
    "model_relu = nn.Sequential(OrderedDict([\n",
    "    ('flatten', Flatten()),\n",
    "    ('linear_1', nn.Linear(784, 784)),\n",
    "    ('a1', nn.ReLU(inplace=True)),\n",
    "    ('linear_2', nn.Linear(784, 784)),\n",
    "    ('a2', nn.ReLU(inplace=True)),\n",
    "    ('linear_3', nn.Linear(784, 10))\n",
    "]))\n",
    "\n",
    "model_selu.cuda()\n",
    "model_relu.cuda()\n",
    "\n",
    "print(model_selu)\n",
    "print(model_relu)"
   ]
  },
  {
   "cell_type": "code",
   "execution_count": 7,
   "metadata": {
    "collapsed": false
   },
   "outputs": [
    {
     "name": "stdout",
     "output_type": "stream",
     "text": [
      "\n"
     ]
    }
   ],
   "source": [
    "# Initialize all linear layers from a normal distribution\n",
    "# with mean = 0 and 1 / sqrt(n) stddev\n",
    "init.normal(model_selu.linear_1.weight, mean=0, std=sqrt(1 / float(784)))\n",
    "init.normal(model_selu.linear_2.weight, mean=0, std=sqrt(1 / float(784)))\n",
    "init.normal(model_selu.linear_3.weight, mean=0, std=sqrt(1 / float(784)))\n",
    "init.normal(model_relu.linear_1.weight, mean=0, std=sqrt(1 / float(784)))\n",
    "init.normal(model_relu.linear_2.weight, mean=0, std=sqrt(1 / float(784)))\n",
    "init.normal(model_relu.linear_3.weight, mean=0, std=sqrt(1 / float(784)))\n",
    "\n",
    "# Biases are initialized with a random distribution where\n",
    "# the stddev = 0\n",
    "init.normal(model_selu.linear_1.bias, 0)\n",
    "init.normal(model_selu.linear_2.bias, 0)\n",
    "init.normal(model_selu.linear_3.bias, 0)\n",
    "init.normal(model_relu.linear_1.bias, 0)\n",
    "init.normal(model_relu.linear_2.bias, 0)\n",
    "init.normal(model_relu.linear_3.bias, 0)\n",
    "\n",
    "print()"
   ]
  },
  {
   "cell_type": "code",
   "execution_count": 8,
   "metadata": {
    "collapsed": false
   },
   "outputs": [],
   "source": [
    "optimizer_selu = optim.SGD(model_selu.parameters(), lr=5e-3)\n",
    "optimizer_relu = optim.SGD(model_relu.parameters(), lr=5e-3)\n",
    "criterion = nn.CrossEntropyLoss()"
   ]
  },
  {
   "cell_type": "code",
   "execution_count": 9,
   "metadata": {
    "collapsed": true
   },
   "outputs": [],
   "source": [
    "def train(images, labels, model, optimizer, criterion):\n",
    "    optimizer.zero_grad()\n",
    "    \n",
    "    images_var = Variable(images).cuda()\n",
    "    labels_var = Variable(labels, requires_grad=False).cuda()\n",
    "    \n",
    "    scores = model(images_var)\n",
    "    \n",
    "    loss = criterion(scores, labels_var)\n",
    "    loss.backward()\n",
    "    optimizer.step()\n",
    "    \n",
    "    return loss.data[0]"
   ]
  },
  {
   "cell_type": "code",
   "execution_count": 10,
   "metadata": {
    "collapsed": false
   },
   "outputs": [
    {
     "name": "stdout",
     "output_type": "stream",
     "text": [
      "Current Epoch 1: SELU Loss = 0.5069007170697053 :: RELU Loss = 0.6688844574491183\n",
      "Current Epoch 2: SELU Loss = 0.3085738401984175 :: RELU Loss = 0.3414223812768857\n",
      "Current Epoch 3: SELU Loss = 0.2722914473960797 :: RELU Loss = 0.28873247001320124\n",
      "Current Epoch 4: SELU Loss = 0.24837824200590453 :: RELU Loss = 0.2578024655332168\n",
      "Current Epoch 5: SELU Loss = 0.22975884222735962 :: RELU Loss = 0.2352820257594188\n",
      "Current Epoch 6: SELU Loss = 0.2136258066818118 :: RELU Loss = 0.21701276620229085\n",
      "Current Epoch 7: SELU Loss = 0.19956738001356522 :: RELU Loss = 0.20169484396775564\n",
      "Current Epoch 8: SELU Loss = 0.1864798622702559 :: RELU Loss = 0.1881406964485844\n",
      "Current Epoch 9: SELU Loss = 0.17513128807147343 :: RELU Loss = 0.1765979276659588\n",
      "Current Epoch 10: SELU Loss = 0.1643573381813864 :: RELU Loss = 0.16586624786257745\n"
     ]
    }
   ],
   "source": [
    "num_epochs = 10\n",
    "\n",
    "selu_losses = []\n",
    "relu_losses = []\n",
    "\n",
    "for epoch in range(num_epochs):\n",
    "    epoch_selu_losses = []\n",
    "    epoch_relu_losses = []\n",
    "    \n",
    "    for data in data_loader:\n",
    "        images, labels = data\n",
    "        loss_selu = train(images, labels, model_selu, optimizer_selu, criterion)\n",
    "        loss_relu = train(images, labels, model_relu, optimizer_relu, criterion)\n",
    "        \n",
    "        epoch_selu_losses.append(loss_selu)\n",
    "        epoch_relu_losses.append(loss_relu)\n",
    "        \n",
    "    average_selu_loss = sum(epoch_selu_losses) / float(len(epoch_selu_losses))\n",
    "    average_relu_loss = sum(epoch_relu_losses) / float(len(epoch_relu_losses))\n",
    "    \n",
    "    print('Current Epoch {}: SELU Loss = {} :: RELU Loss = {}'.\n",
    "          format(epoch+1, average_selu_loss, average_relu_loss))\n",
    "    \n",
    "    selu_losses.append(average_selu_loss)\n",
    "    relu_losses.append(average_relu_loss)"
   ]
  },
  {
   "cell_type": "code",
   "execution_count": 11,
   "metadata": {
    "collapsed": false
   },
   "outputs": [
    {
     "data": {
      "image/png": "[encoded data removed]",
      "text/plain": [
       "<matplotlib.figure.Figure at 0x7fe626cd6978>"
      ]
     },
     "metadata": {},
     "output_type": "display_data"
    }
   ],
   "source": [
    "plt.plot(range(len(selu_losses)), selu_losses)\n",
    "plt.plot(range(len(relu_losses)), relu_losses)\n",
    "plt.xlabel('Epoch')\n",
    "plt.ylabel('Loss')\n",
    "plt.title('Loss per Epoch')\n",
    "plt.legend(['SELU Loss', 'RELU Loss'])\n",
    "plt.show()"
   ]
  },
  {
   "cell_type": "code",
   "execution_count": null,
   "metadata": {
    "collapsed": true
   },
   "outputs": [],
   "source": []
  }
 ],
 "metadata": {
  "kernelspec": {
   "display_name": "3.6-ml-cuda",
   "language": "python",
   "name": "3.6-ml-cuda"
  },
  "language_info": {
   "codemirror_mode": {
    "name": "ipython",
    "version": 3
   },
   "file_extension": ".py",
   "mimetype": "text/x-python",
   "name": "python",
   "nbconvert_exporter": "python",
   "pygments_lexer": "ipython3",
   "version": "3.6.1"
  }
 },
 "nbformat": 4,
 "nbformat_minor": 2
}
