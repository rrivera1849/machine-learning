{
 "cells": [
  {
   "cell_type": "code",
   "execution_count": 1,
   "metadata": {
    "collapsed": false
   },
   "outputs": [],
   "source": [
    "import os\n",
    "\n",
    "import torch\n",
    "import torch.nn as nn\n",
    "import torch.nn.init as init\n",
    "import torch.optim as optim\n",
    "import torch.nn.functional as F\n",
    "from torch.autograd import Variable\n",
    "from torch.utils.data import DataLoader\n",
    "\n",
    "import torchvision.datasets as datasets\n",
    "import torchvision.transforms as transforms\n",
    "\n",
    "from sklearn.preprocessing import StandardScaler\n",
    "import matplotlib.pyplot as plt\n",
    "\n",
    "%load_ext autoreload\n",
    "%autoreload 2"
   ]
  },
  {
   "cell_type": "code",
   "execution_count": 2,
   "metadata": {
    "collapsed": false
   },
   "outputs": [],
   "source": [
    "root_dir = os.path.join('.', 'data')\n",
    "\n",
    "if not os.path.exists(root_dir):\n",
    "    os.mkdir(root_dir)\n",
    "\n",
    "transform = transforms.Compose([\n",
    "    transforms.ToTensor(),\n",
    "    transforms.Normalize((0.1307,), (0.3081,))\n",
    "])\n",
    "\n",
    "dataset = datasets.MNIST(root_dir, train=True, transform=transform, download=True)"
   ]
  },
  {
   "cell_type": "code",
   "execution_count": 3,
   "metadata": {
    "collapsed": true
   },
   "outputs": [],
   "source": [
    "data_loader = DataLoader(dataset, shuffle=True, batch_size=64)"
   ]
  },
  {
   "cell_type": "code",
   "execution_count": 4,
   "metadata": {
    "collapsed": true
   },
   "outputs": [],
   "source": [
    "class Flatten(nn.Module):\n",
    "    def __init__(self):\n",
    "        super(Flatten, self).__init__()\n",
    "    \n",
    "    def forward(self, input):\n",
    "        B, C, H, W = input.size()\n",
    "        return input.view(B, -1)\n",
    "\n",
    "    def __repr__(self):\n",
    "        return self.__class__.__name__ + ' ()'"
   ]
  },
  {
   "cell_type": "code",
   "execution_count": 5,
   "metadata": {
    "collapsed": false
   },
   "outputs": [],
   "source": [
    "class SELU(nn.Module):\n",
    "    def __init__(self, \n",
    "                 alpha = 1.6732632423543772848170429916717, \n",
    "                 scale = 1.0507009873554804934193349852946, \n",
    "                 inplace=False):\n",
    "        super(SELU, self).__init__()\n",
    "        self.alpha = alpha\n",
    "        self.scale = scale\n",
    "        self.inplace = inplace\n",
    "\n",
    "    def forward(self, input):\n",
    "        return self.scale * F.elu(input, self.alpha, self.inplace)\n",
    "\n",
    "    def __repr__(self):\n",
    "        inplace_str = ', inplace' if self.inplace else ''\n",
    "        return self.__class__.__name__ + ' (' \\\n",
    "            + 'alpha=' + str(self.alpha) \\\n",
    "            + ' scale=' + str(self.scale) \\\n",
    "            + inplace_str + ')'"
   ]
  },
  {
   "cell_type": "code",
   "execution_count": 6,
   "metadata": {
    "collapsed": false
   },
   "outputs": [
    {
     "name": "stdout",
     "output_type": "stream",
     "text": [
      "Sequential (\n",
      "  (0): Flatten ()\n",
      "  (1): Linear (784 -> 784)\n",
      "  (2): SELU (alpha=1.6732632423543772 scale=1.0507009873554805, inplace)\n",
      "  (3): Linear (784 -> 784)\n",
      "  (4): SELU (alpha=1.6732632423543772 scale=1.0507009873554805, inplace)\n",
      "  (5): Linear (784 -> 10)\n",
      ")\n",
      "Sequential (\n",
      "  (0): Flatten ()\n",
      "  (1): Linear (784 -> 784)\n",
      "  (2): ReLU (inplace)\n",
      "  (3): Linear (784 -> 784)\n",
      "  (4): ReLU (inplace)\n",
      "  (5): Linear (784 -> 10)\n",
      ")\n"
     ]
    }
   ],
   "source": [
    "model_selu = nn.Sequential(\n",
    "    Flatten(),\n",
    "    nn.Linear(784, 784),\n",
    "    SELU(inplace=True),\n",
    "    nn.Linear(784, 784),\n",
    "    SELU(inplace=True),\n",
    "    nn.Linear(784, 10)\n",
    ")\n",
    "\n",
    "model_relu = nn.Sequential(\n",
    "    Flatten(),\n",
    "    nn.Linear(784, 784),\n",
    "    nn.ReLU(inplace=True),\n",
    "    nn.Linear(784, 784),\n",
    "    nn.ReLU(inplace=True),\n",
    "    nn.Linear(784, 10)\n",
    ")\n",
    "\n",
    "model_selu.cuda()\n",
    "model_relu.cuda()\n",
    "\n",
    "print(model_selu)\n",
    "print(model_relu)"
   ]
  },
  {
   "cell_type": "code",
   "execution_count": 7,
   "metadata": {
    "collapsed": false
   },
   "outputs": [],
   "source": [
    "optimizer_selu = optim.SGD(model_selu.parameters(), lr=1e-3)\n",
    "optimizer_relu = optim.SGD(model_relu.parameters(), lr=1e-3)\n",
    "criterion = nn.CrossEntropyLoss()"
   ]
  },
  {
   "cell_type": "code",
   "execution_count": 8,
   "metadata": {
    "collapsed": true
   },
   "outputs": [],
   "source": [
    "def train(images, labels, model, optimizer, criterion):\n",
    "    optimizer.zero_grad()\n",
    "    \n",
    "    images_var = Variable(images).cuda()\n",
    "    labels_var = Variable(labels, requires_grad=False).cuda()\n",
    "    \n",
    "    scores = model(images_var)\n",
    "    \n",
    "    loss = criterion(scores, labels_var)\n",
    "    loss.backward()\n",
    "    optimizer.step()\n",
    "    \n",
    "    return loss.data[0]"
   ]
  },
  {
   "cell_type": "code",
   "execution_count": 9,
   "metadata": {
    "collapsed": false
   },
   "outputs": [
    {
     "name": "stdout",
     "output_type": "stream",
     "text": [
      "Current Epoch 1: SELU Loss = 1.0846268932130545 :: RELU Loss = 2.020065742260866\n",
      "Current Epoch 2: SELU Loss = 0.5334115342290671 :: RELU Loss = 1.2203347300415608\n",
      "Current Epoch 3: SELU Loss = 0.43288363532216817 :: RELU Loss = 0.7158759726263059\n",
      "Current Epoch 4: SELU Loss = 0.3888318991737325 :: RELU Loss = 0.535969023066543\n",
      "Current Epoch 5: SELU Loss = 0.3632975288196159 :: RELU Loss = 0.4533534983772713\n",
      "Current Epoch 6: SELU Loss = 0.34615337338719543 :: RELU Loss = 0.4065817011031769\n",
      "Current Epoch 7: SELU Loss = 0.33341061198380967 :: RELU Loss = 0.37603055431581\n",
      "Current Epoch 8: SELU Loss = 0.3234504804984212 :: RELU Loss = 0.3541861929491893\n",
      "Current Epoch 9: SELU Loss = 0.3152530568240802 :: RELU Loss = 0.33750799067938\n",
      "Current Epoch 10: SELU Loss = 0.3085152130804336 :: RELU Loss = 0.3240226217503868\n"
     ]
    }
   ],
   "source": [
    "num_epochs = 10\n",
    "\n",
    "selu_losses = []\n",
    "relu_losses = []\n",
    "\n",
    "for epoch in range(num_epochs):\n",
    "    epoch_selu_losses = []\n",
    "    epoch_relu_losses = []\n",
    "    \n",
    "    for data in data_loader:\n",
    "        images, labels = data\n",
    "        loss_selu = train(images, labels, model_selu, optimizer_selu, criterion)\n",
    "        loss_relu = train(images, labels, model_relu, optimizer_relu, criterion)\n",
    "        \n",
    "        epoch_selu_losses.append(loss_selu)\n",
    "        epoch_relu_losses.append(loss_relu)\n",
    "        \n",
    "    average_selu_loss = sum(epoch_selu_losses) / float(len(epoch_selu_losses))\n",
    "    average_relu_loss = sum(epoch_relu_losses) / float(len(epoch_relu_losses))\n",
    "    \n",
    "    print('Current Epoch {}: SELU Loss = {} :: RELU Loss = {}'.\n",
    "          format(epoch+1, average_selu_loss, average_relu_loss))\n",
    "    \n",
    "    selu_losses.append(average_selu_loss)\n",
    "    relu_losses.append(average_relu_loss)"
   ]
  },
  {
   "cell_type": "code",
   "execution_count": 10,
   "metadata": {
    "collapsed": false
   },
   "outputs": [
    {
     "data": {
      "image/png": "[encoded data removed]",
      "text/plain": [
       "<matplotlib.figure.Figure at 0x7fa1fc9d42b0>"
      ]
     },
     "metadata": {},
     "output_type": "display_data"
    }
   ],
   "source": [
    "plt.plot(range(len(selu_losses)), selu_losses)\n",
    "plt.plot(range(len(relu_losses)), relu_losses)\n",
    "plt.xlabel('Epoch')\n",
    "plt.ylabel('Loss')\n",
    "plt.title('Loss per Epoch')\n",
    "plt.legend(['SELU Loss', 'RELU Loss'])\n",
    "plt.show()"
   ]
  },
  {
   "cell_type": "code",
   "execution_count": null,
   "metadata": {
    "collapsed": true
   },
   "outputs": [],
   "source": []
  }
 ],
 "metadata": {
  "kernelspec": {
   "display_name": "3.6-ml-cuda",
   "language": "python",
   "name": "3.6-ml-cuda"
  },
  "language_info": {
   "codemirror_mode": {
    "name": "ipython",
    "version": 3
   },
   "file_extension": ".py",
   "mimetype": "text/x-python",
   "name": "python",
   "nbconvert_exporter": "python",
   "pygments_lexer": "ipython3",
   "version": "3.6.1"
  }
 },
 "nbformat": 4,
 "nbformat_minor": 2
}
