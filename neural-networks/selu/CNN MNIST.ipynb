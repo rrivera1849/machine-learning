{
 "cells": [
  {
   "cell_type": "code",
   "execution_count": 9,
   "metadata": {
    "collapsed": false
   },
   "outputs": [
    {
     "name": "stdout",
     "output_type": "stream",
     "text": [
      "The autoreload extension is already loaded. To reload it, use:\n",
      "  %reload_ext autoreload\n"
     ]
    }
   ],
   "source": [
    "import os\n",
    "from math import sqrt\n",
    "from collections import OrderedDict\n",
    "\n",
    "import torch\n",
    "import torch.nn as nn\n",
    "import torch.nn.init as init\n",
    "import torch.optim as optim\n",
    "import torch.nn.functional as F\n",
    "from torch.autograd import Variable\n",
    "from torch.utils.data import DataLoader\n",
    "\n",
    "import torchvision.datasets as datasets\n",
    "import torchvision.transforms as transforms\n",
    "\n",
    "import numpy as np\n",
    "import matplotlib.pyplot as plt\n",
    "from sklearn.preprocessing import StandardScaler\n",
    "\n",
    "%load_ext autoreload\n",
    "%autoreload 2"
   ]
  },
  {
   "cell_type": "code",
   "execution_count": 10,
   "metadata": {
    "collapsed": true
   },
   "outputs": [],
   "source": [
    "root_dir = os.path.join('.', 'data')\n",
    "\n",
    "if not os.path.exists(root_dir):\n",
    "    os.mkdir(root_dir)\n",
    "\n",
    "transform = transforms.Compose([\n",
    "    transforms.ToTensor(),\n",
    "    transforms.Normalize((0.1307,), (0.3081,))\n",
    "])\n",
    "\n",
    "dataset = datasets.MNIST(root_dir, train=True, transform=transform, download=True)"
   ]
  },
  {
   "cell_type": "code",
   "execution_count": 11,
   "metadata": {
    "collapsed": true
   },
   "outputs": [],
   "source": [
    "data_loader = DataLoader(dataset, shuffle=True, batch_size=128)"
   ]
  },
  {
   "cell_type": "code",
   "execution_count": 12,
   "metadata": {
    "collapsed": true
   },
   "outputs": [],
   "source": [
    "class Flatten(nn.Module):\n",
    "    def __init__(self):\n",
    "        super(Flatten, self).__init__()\n",
    "    \n",
    "    def forward(self, input):\n",
    "        B, C, H, W = input.size()\n",
    "        return input.view(B, -1)\n",
    "\n",
    "    def __repr__(self):\n",
    "        return self.__class__.__name__ + ' ()'"
   ]
  },
  {
   "cell_type": "code",
   "execution_count": 13,
   "metadata": {
    "collapsed": true
   },
   "outputs": [],
   "source": [
    "class SELU(nn.Module):\n",
    "    def __init__(self, \n",
    "                 alpha = 1.6732632423543772848170429916717, \n",
    "                 scale = 1.0507009873554804934193349852946, \n",
    "                 inplace=False):\n",
    "        super(SELU, self).__init__()\n",
    "        self.alpha = alpha\n",
    "        self.scale = scale\n",
    "        self.inplace = inplace\n",
    "\n",
    "    def forward(self, input):\n",
    "        return self.scale * F.elu(input, self.alpha, self.inplace)\n",
    "\n",
    "    def __repr__(self):\n",
    "        inplace_str = ', inplace' if self.inplace else ''\n",
    "        return self.__class__.__name__ + ' (' \\\n",
    "            + 'alpha=' + str(self.alpha) \\\n",
    "            + ' scale=' + str(self.scale) \\\n",
    "            + inplace_str + ')'"
   ]
  },
  {
   "cell_type": "code",
   "execution_count": 14,
   "metadata": {
    "collapsed": true
   },
   "outputs": [],
   "source": [
    "class AlphaDropout(nn.Module):\n",
    "    def __init__(self,\n",
    "                 p=0.05,\n",
    "                 alpha_prime = -1.75809934084738):\n",
    "        super(AlphaDropout, self).__init__()\n",
    "        self.dropout_prob = p\n",
    "        self.keep_prob = 1 - p\n",
    "        self.alpha_prime = alpha_prime\n",
    "        \n",
    "        # a = (q + alpha_prime^2 * q * (1 - q))^(-1/2)\n",
    "        self.a = 1 / np.sqrt(self.keep_prob + pow(self.alpha_prime, 2) * self.keep_prob * p)\n",
    "        # b = -a * ((1-q) * alpha_prime)\n",
    "        self.b = -self.a * (p * self.alpha_prime)\n",
    "        \n",
    "    def forward(self, x):\n",
    "        if self.keep_prob == 1 or not self.training:\n",
    "            return x\n",
    "        \n",
    "        random_tensor = self.keep_prob + torch.rand(x.size())\n",
    "        binary_tensor = Variable(torch.floor(random_tensor)).cuda()\n",
    "        \n",
    "        # a(xd + alpha_prime(1 - d)) + b\n",
    "        ret = x.mul(binary_tensor) + self.alpha_prime * (1 - binary_tensor)\n",
    "        ret.mul_(self.a).add_(self.b)\n",
    "        return ret\n",
    "    \n",
    "    def __repr__(self):\n",
    "        return self.__class__.__name__ + ' ()'"
   ]
  },
  {
   "cell_type": "code",
   "execution_count": 15,
   "metadata": {
    "collapsed": true
   },
   "outputs": [],
   "source": [
    "def init_model_weights(model):\n",
    "    init.normal(model.conv1.weight, mean=0, std=sqrt(2.0/25.0))\n",
    "    init.normal(model.conv2.weight, mean=0, std=sqrt(2.0/(25.0*32.0)))\n",
    "    init.normal(model.linear1.weight, mean=0, std=sqrt(2.0/(7.0*7.0*64.0)))\n",
    "    init.normal(model.linear1.weight, mean=0, std=sqrt(2.0/(1024.0)))\n",
    "    \n",
    "    init.constant(model.conv1.bias, 0)\n",
    "    init.constant(model.conv2.bias, 0)\n",
    "    init.constant(model.linear1.bias, 0)\n",
    "    init.constant(model.linear2.bias, 0)\n",
    "\n",
    "def get_selu_model():\n",
    "    model = nn.Sequential(OrderedDict([\n",
    "        ('conv1', nn.Conv2d(1, 32, 5, stride=1, padding=2)),\n",
    "        ('selu1', SELU(inplace=True)),\n",
    "        ('maxpool1', nn.MaxPool2d((2,2), stride=2)),\n",
    "        ('conv2', nn.Conv2d(32, 64, 5, stride=1, padding=2)),\n",
    "        ('selu2', SELU(inplace=True)),\n",
    "        ('maxpool2', nn.MaxPool2d((2,2), stride=2)),\n",
    "        ('flatten', Flatten()),\n",
    "        ('linear1', nn.Linear(7*7*64, 1024)),\n",
    "        ('selu3', SELU(inplace=True)),\n",
    "        ('d1', AlphaDropout(0.05)),\n",
    "        ('linear2', nn.Linear(1024, 10)),\n",
    "    ]))\n",
    "    \n",
    "    return model\n",
    "\n",
    "def get_relu_model():\n",
    "    model = nn.Sequential(OrderedDict([\n",
    "        ('conv1', nn.Conv2d(1, 32, 5, stride=1, padding=2)),\n",
    "        ('relu1', nn.ReLU(inplace=True)),\n",
    "        ('maxpool1', nn.MaxPool2d((2,2), stride=2)),\n",
    "        ('conv2', nn.Conv2d(32, 64, 5, stride=1, padding=2)),\n",
    "        ('relu2', nn.ReLU(inplace=True)),\n",
    "        ('maxpool2', nn.MaxPool2d((2,2), stride=2)),\n",
    "        ('flatten', Flatten()),\n",
    "        ('linear1', nn.Linear(7*7*64, 1024)),\n",
    "        ('relu3', nn.ReLU(inplace=True)),\n",
    "        ('d1', nn.Dropout(0.05)),\n",
    "        ('linear2', nn.Linear(1024, 10)),\n",
    "    ]))\n",
    "    \n",
    "    return model"
   ]
  },
  {
   "cell_type": "code",
   "execution_count": 16,
   "metadata": {
    "collapsed": false
   },
   "outputs": [
    {
     "name": "stdout",
     "output_type": "stream",
     "text": [
      "Sequential (\n",
      "  (conv1): Conv2d(1, 32, kernel_size=(5, 5), stride=(1, 1), padding=(2, 2))\n",
      "  (selu1): SELU (alpha=1.6732632423543772 scale=1.0507009873554805, inplace)\n",
      "  (maxpool1): MaxPool2d (size=(2, 2), stride=(2, 2), dilation=(1, 1))\n",
      "  (conv2): Conv2d(32, 64, kernel_size=(5, 5), stride=(1, 1), padding=(2, 2))\n",
      "  (selu2): SELU (alpha=1.6732632423543772 scale=1.0507009873554805, inplace)\n",
      "  (maxpool2): MaxPool2d (size=(2, 2), stride=(2, 2), dilation=(1, 1))\n",
      "  (flatten): Flatten ()\n",
      "  (linear1): Linear (3136 -> 1024)\n",
      "  (selu3): SELU (alpha=1.6732632423543772 scale=1.0507009873554805, inplace)\n",
      "  (d1): AlphaDropout ()\n",
      "  (linear2): Linear (1024 -> 10)\n",
      ")\n",
      "Sequential (\n",
      "  (conv1): Conv2d(1, 32, kernel_size=(5, 5), stride=(1, 1), padding=(2, 2))\n",
      "  (relu1): ReLU (inplace)\n",
      "  (maxpool1): MaxPool2d (size=(2, 2), stride=(2, 2), dilation=(1, 1))\n",
      "  (conv2): Conv2d(32, 64, kernel_size=(5, 5), stride=(1, 1), padding=(2, 2))\n",
      "  (relu2): ReLU (inplace)\n",
      "  (maxpool2): MaxPool2d (size=(2, 2), stride=(2, 2), dilation=(1, 1))\n",
      "  (flatten): Flatten ()\n",
      "  (linear1): Linear (3136 -> 1024)\n",
      "  (relu3): ReLU (inplace)\n",
      "  (d1): Dropout (p = 0.05)\n",
      "  (linear2): Linear (1024 -> 10)\n",
      ")\n"
     ]
    }
   ],
   "source": [
    "model_selu = get_selu_model()\n",
    "init_model_weights(model_selu)\n",
    "\n",
    "model_relu = get_relu_model()\n",
    "init_model_weights(model_relu)\n",
    "\n",
    "model_selu.cuda()\n",
    "model_relu.cuda()\n",
    "\n",
    "print(model_selu)\n",
    "print(model_relu)"
   ]
  },
  {
   "cell_type": "code",
   "execution_count": 17,
   "metadata": {
    "collapsed": true
   },
   "outputs": [],
   "source": [
    "optimizer_selu = optim.SGD(model_selu.parameters(), lr=0.025)\n",
    "optimizer_relu = optim.SGD(model_relu.parameters(), lr=0.025)\n",
    "criterion = nn.CrossEntropyLoss()"
   ]
  },
  {
   "cell_type": "code",
   "execution_count": 18,
   "metadata": {
    "collapsed": true
   },
   "outputs": [],
   "source": [
    "def train(images, labels, model, optimizer, criterion):\n",
    "    optimizer.zero_grad()\n",
    "    \n",
    "    images_var = Variable(images).cuda()\n",
    "    labels_var = Variable(labels, requires_grad=False).cuda()\n",
    "    \n",
    "    scores = model(images_var)\n",
    "    \n",
    "    loss = criterion(scores, labels_var)\n",
    "    loss.backward()\n",
    "    optimizer.step()\n",
    "    \n",
    "    return loss.data[0]"
   ]
  },
  {
   "cell_type": "code",
   "execution_count": 19,
   "metadata": {
    "collapsed": false
   },
   "outputs": [
    {
     "name": "stdout",
     "output_type": "stream",
     "text": [
      "Current Epoch 1: SELU Loss = 0.3987813304378979 :: RELU Loss = 0.3394212085507445\n",
      "Current Epoch 2: SELU Loss = 0.059161250938230485 :: RELU Loss = 0.07074233306162774\n",
      "Current Epoch 3: SELU Loss = 0.040227992158295756 :: RELU Loss = 0.050990401876411205\n",
      "Current Epoch 4: SELU Loss = 0.02980473389261281 :: RELU Loss = 0.040631639705633306\n",
      "Current Epoch 5: SELU Loss = 0.023271257589970316 :: RELU Loss = 0.034249522411492844\n",
      "Current Epoch 6: SELU Loss = 0.018317874675906544 :: RELU Loss = 0.028669884523698515\n",
      "Current Epoch 7: SELU Loss = 0.01430354887909536 :: RELU Loss = 0.024426685487315344\n",
      "Current Epoch 8: SELU Loss = 0.01174130262946015 :: RELU Loss = 0.020809142328083896\n",
      "Current Epoch 9: SELU Loss = 0.009968539876644927 :: RELU Loss = 0.01889758503068485\n",
      "Current Epoch 10: SELU Loss = 0.007908670148297922 :: RELU Loss = 0.016145774594216206\n"
     ]
    }
   ],
   "source": [
    "num_epochs = 10\n",
    "\n",
    "selu_losses = []\n",
    "relu_losses = []\n",
    "\n",
    "for epoch in range(num_epochs):\n",
    "    epoch_selu_losses = []\n",
    "    epoch_relu_losses = []\n",
    "    \n",
    "    for data in data_loader:\n",
    "        images, labels = data\n",
    "        loss_selu = train(images, labels, model_selu, optimizer_selu, criterion)\n",
    "        loss_relu = train(images, labels, model_relu, optimizer_relu, criterion)\n",
    "        \n",
    "        epoch_selu_losses.append(loss_selu)\n",
    "        epoch_relu_losses.append(loss_relu)\n",
    "        \n",
    "    average_selu_loss = sum(epoch_selu_losses) / float(len(epoch_selu_losses))\n",
    "    average_relu_loss = sum(epoch_relu_losses) / float(len(epoch_relu_losses))\n",
    "    \n",
    "    print('Current Epoch {}: SELU Loss = {} :: RELU Loss = {}'.\n",
    "          format(epoch+1, average_selu_loss, average_relu_loss))\n",
    "    \n",
    "    selu_losses.append(average_selu_loss)\n",
    "    relu_losses.append(average_relu_loss)"
   ]
  },
  {
   "cell_type": "code",
   "execution_count": 20,
   "metadata": {
    "collapsed": false
   },
   "outputs": [
    {
     "data": {
      "image/png": "[encoded data removed]",
      "text/plain": [
       "<matplotlib.figure.Figure at 0x7fa0dfe8e7f0>"
      ]
     },
     "metadata": {},
     "output_type": "display_data"
    }
   ],
   "source": [
    "plt.plot(range(len(selu_losses)), selu_losses)\n",
    "plt.plot(range(len(relu_losses)), relu_losses)\n",
    "plt.xlabel('Epoch')\n",
    "plt.ylabel('Loss')\n",
    "plt.title('Loss per Epoch')\n",
    "plt.legend(['SELU Loss', 'RELU Loss'])\n",
    "plt.show()"
   ]
  },
  {
   "cell_type": "code",
   "execution_count": null,
   "metadata": {
    "collapsed": true
   },
   "outputs": [],
   "source": []
  }
 ],
 "metadata": {
  "kernelspec": {
   "display_name": "3.6-ml-cuda",
   "language": "python",
   "name": "3.6-ml-cuda"
  },
  "language_info": {
   "codemirror_mode": {
    "name": "ipython",
    "version": 3
   },
   "file_extension": ".py",
   "mimetype": "text/x-python",
   "name": "python",
   "nbconvert_exporter": "python",
   "pygments_lexer": "ipython3",
   "version": "3.6.1"
  }
 },
 "nbformat": 4,
 "nbformat_minor": 2
}
