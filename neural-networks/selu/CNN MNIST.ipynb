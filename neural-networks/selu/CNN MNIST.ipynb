{
 "cells": [
  {
   "cell_type": "code",
   "execution_count": 1,
   "metadata": {
    "collapsed": true
   },
   "outputs": [],
   "source": [
    "import os\n",
    "from math import sqrt\n",
    "from collections import OrderedDict\n",
    "\n",
    "import torch\n",
    "import torch.nn as nn\n",
    "import torch.nn.init as init\n",
    "import torch.optim as optim\n",
    "import torch.nn.functional as F\n",
    "from torch.autograd import Variable\n",
    "from torch.utils.data import DataLoader\n",
    "\n",
    "import torchvision.datasets as datasets\n",
    "import torchvision.transforms as transforms\n",
    "\n",
    "from sklearn.preprocessing import StandardScaler\n",
    "import matplotlib.pyplot as plt\n",
    "\n",
    "%load_ext autoreload\n",
    "%autoreload 2"
   ]
  },
  {
   "cell_type": "code",
   "execution_count": 2,
   "metadata": {
    "collapsed": true
   },
   "outputs": [],
   "source": [
    "root_dir = os.path.join('.', 'data')\n",
    "\n",
    "if not os.path.exists(root_dir):\n",
    "    os.mkdir(root_dir)\n",
    "\n",
    "transform = transforms.Compose([\n",
    "    transforms.ToTensor(),\n",
    "    transforms.Normalize((0.1307,), (0.3081,))\n",
    "])\n",
    "\n",
    "dataset = datasets.MNIST(root_dir, train=True, transform=transform, download=True)"
   ]
  },
  {
   "cell_type": "code",
   "execution_count": 3,
   "metadata": {
    "collapsed": true
   },
   "outputs": [],
   "source": [
    "data_loader = DataLoader(dataset, shuffle=True, batch_size=100)"
   ]
  },
  {
   "cell_type": "code",
   "execution_count": 4,
   "metadata": {
    "collapsed": true
   },
   "outputs": [],
   "source": [
    "class Flatten(nn.Module):\n",
    "    def __init__(self):\n",
    "        super(Flatten, self).__init__()\n",
    "    \n",
    "    def forward(self, input):\n",
    "        B, C, H, W = input.size()\n",
    "        return input.view(B, -1)\n",
    "\n",
    "    def __repr__(self):\n",
    "        return self.__class__.__name__ + ' ()'"
   ]
  },
  {
   "cell_type": "code",
   "execution_count": 5,
   "metadata": {
    "collapsed": true
   },
   "outputs": [],
   "source": [
    "class SELU(nn.Module):\n",
    "    def __init__(self, \n",
    "                 alpha = 1.6732632423543772848170429916717, \n",
    "                 scale = 1.0507009873554804934193349852946, \n",
    "                 inplace=False):\n",
    "        super(SELU, self).__init__()\n",
    "        self.alpha = alpha\n",
    "        self.scale = scale\n",
    "        self.inplace = inplace\n",
    "\n",
    "    def forward(self, input):\n",
    "        return self.scale * F.elu(input, self.alpha, self.inplace)\n",
    "\n",
    "    def __repr__(self):\n",
    "        inplace_str = ', inplace' if self.inplace else ''\n",
    "        return self.__class__.__name__ + ' (' \\\n",
    "            + 'alpha=' + str(self.alpha) \\\n",
    "            + ' scale=' + str(self.scale) \\\n",
    "            + inplace_str + ')'"
   ]
  },
  {
   "cell_type": "code",
   "execution_count": 38,
   "metadata": {
    "collapsed": true
   },
   "outputs": [],
   "source": [
    "def init_model_weights(model):\n",
    "    init.normal(model.conv1.weight, mean=0, std=sqrt(2.0/25.0))\n",
    "    init.normal(model.conv2.weight, mean=0, std=sqrt(2.0/(25.0*32.0)))\n",
    "    init.normal(model.linear1.weight, mean=0, std=sqrt(2.0/(7.0*7.0*64.0)))\n",
    "    init.normal(model.linear1.weight, mean=0, std=sqrt(2.0/(1024.0)))\n",
    "    \n",
    "    init.constant(model.conv1.bias, 0)\n",
    "    init.constant(model.conv2.bias, 0)\n",
    "    init.constant(model.linear1.bias, 0)\n",
    "    init.constant(model.linear2.bias, 0)\n",
    "\n",
    "def get_selu_model():\n",
    "    model = nn.Sequential(OrderedDict([\n",
    "        ('conv1', nn.Conv2d(1, 32, 5, stride=1, padding=2)),\n",
    "        ('selu1', SELU(inplace=True)),\n",
    "        ('maxpool1', nn.MaxPool2d((2,2), stride=2)),\n",
    "        ('conv2', nn.Conv2d(32, 64, 5, stride=1, padding=2)),\n",
    "        ('selu2', SELU(inplace=True)),\n",
    "        ('maxpool2', nn.MaxPool2d((2,2), stride=2)),\n",
    "        ('flatten', Flatten()),\n",
    "        ('linear1', nn.Linear(7*7*64, 1024)),\n",
    "        ('selu3', SELU(inplace=True)),\n",
    "        ('linear2', nn.Linear(1024, 10)),\n",
    "    ]))\n",
    "    \n",
    "    return model\n",
    "\n",
    "def get_relu_model():\n",
    "    model = nn.Sequential(OrderedDict([\n",
    "        ('conv1', nn.Conv2d(1, 32, 5, stride=1, padding=2)),\n",
    "        ('relu1', nn.ReLU(inplace=True)),\n",
    "        ('maxpool1', nn.MaxPool2d((2,2), stride=2)),\n",
    "        ('conv2', nn.Conv2d(32, 64, 5, stride=1, padding=2)),\n",
    "        ('relu2', nn.ReLU(inplace=True)),\n",
    "        ('maxpool2', nn.MaxPool2d((2,2), stride=2)),\n",
    "        ('flatten', Flatten()),\n",
    "        ('linear1', nn.Linear(7*7*64, 1024)),\n",
    "        ('relu3', nn.ReLU(inplace=True)),\n",
    "        ('linear2', nn.Linear(1024, 10)),\n",
    "    ]))\n",
    "    \n",
    "    return model"
   ]
  },
  {
   "cell_type": "code",
   "execution_count": 39,
   "metadata": {
    "collapsed": false
   },
   "outputs": [
    {
     "name": "stdout",
     "output_type": "stream",
     "text": [
      "Sequential (\n",
      "  (conv1): Conv2d(1, 32, kernel_size=(5, 5), stride=(1, 1), padding=(2, 2))\n",
      "  (selu1): SELU (alpha=1.6732632423543772 scale=1.0507009873554805, inplace)\n",
      "  (maxpool1): MaxPool2d (size=(2, 2), stride=(2, 2), dilation=(1, 1))\n",
      "  (conv2): Conv2d(32, 64, kernel_size=(5, 5), stride=(1, 1), padding=(2, 2))\n",
      "  (selu2): SELU (alpha=1.6732632423543772 scale=1.0507009873554805, inplace)\n",
      "  (maxpool2): MaxPool2d (size=(2, 2), stride=(2, 2), dilation=(1, 1))\n",
      "  (flatten): Flatten ()\n",
      "  (linear1): Linear (3136 -> 1024)\n",
      "  (selu3): SELU (alpha=1.6732632423543772 scale=1.0507009873554805, inplace)\n",
      "  (linear2): Linear (1024 -> 10)\n",
      ")\n",
      "Sequential (\n",
      "  (conv1): Conv2d(1, 32, kernel_size=(5, 5), stride=(1, 1), padding=(2, 2))\n",
      "  (relu1): ReLU (inplace)\n",
      "  (maxpool1): MaxPool2d (size=(2, 2), stride=(2, 2), dilation=(1, 1))\n",
      "  (conv2): Conv2d(32, 64, kernel_size=(5, 5), stride=(1, 1), padding=(2, 2))\n",
      "  (relu2): ReLU (inplace)\n",
      "  (maxpool2): MaxPool2d (size=(2, 2), stride=(2, 2), dilation=(1, 1))\n",
      "  (flatten): Flatten ()\n",
      "  (linear1): Linear (3136 -> 1024)\n",
      "  (relu3): ReLU (inplace)\n",
      "  (linear2): Linear (1024 -> 10)\n",
      ")\n"
     ]
    }
   ],
   "source": [
    "model_selu = get_selu_model()\n",
    "init_model_weights(model_selu)\n",
    "\n",
    "model_relu = get_relu_model()\n",
    "init_model_weights(model_relu)\n",
    "\n",
    "model_selu.cuda()\n",
    "model_relu.cuda()\n",
    "\n",
    "print(model_selu)\n",
    "print(model_relu)"
   ]
  },
  {
   "cell_type": "code",
   "execution_count": 40,
   "metadata": {
    "collapsed": true
   },
   "outputs": [],
   "source": [
    "optimizer_selu = optim.SGD(model_selu.parameters(), lr=5e-3)\n",
    "optimizer_relu = optim.SGD(model_relu.parameters(), lr=5e-3)\n",
    "criterion = nn.CrossEntropyLoss()"
   ]
  },
  {
   "cell_type": "code",
   "execution_count": 41,
   "metadata": {
    "collapsed": true
   },
   "outputs": [],
   "source": [
    "def train(images, labels, model, optimizer, criterion):\n",
    "    optimizer.zero_grad()\n",
    "    \n",
    "    images_var = Variable(images).cuda()\n",
    "    labels_var = Variable(labels, requires_grad=False).cuda()\n",
    "    \n",
    "    scores = model(images_var)\n",
    "    \n",
    "    loss = criterion(scores, labels_var)\n",
    "    loss.backward()\n",
    "    optimizer.step()\n",
    "    \n",
    "    return loss.data[0]"
   ]
  },
  {
   "cell_type": "code",
   "execution_count": 42,
   "metadata": {
    "collapsed": false
   },
   "outputs": [
    {
     "name": "stdout",
     "output_type": "stream",
     "text": [
      "Current Epoch 1: SELU Loss = 0.265677602738142 :: RELU Loss = 0.3184516278095543\n",
      "Current Epoch 2: SELU Loss = 0.08829923197316626 :: RELU Loss = 0.11484503702260554\n",
      "Current Epoch 3: SELU Loss = 0.0640415732236579 :: RELU Loss = 0.08336483374238014\n",
      "Current Epoch 4: SELU Loss = 0.05160572627481694 :: RELU Loss = 0.06769863824825734\n",
      "Current Epoch 5: SELU Loss = 0.04327746055088937 :: RELU Loss = 0.057535071941868715\n",
      "Current Epoch 6: SELU Loss = 0.03701452793786302 :: RELU Loss = 0.049955987428159765\n",
      "Current Epoch 7: SELU Loss = 0.03209161978059759 :: RELU Loss = 0.04378534889159103\n",
      "Current Epoch 8: SELU Loss = 0.028674164381421483 :: RELU Loss = 0.04012892573916664\n",
      "Current Epoch 9: SELU Loss = 0.025224168261047453 :: RELU Loss = 0.03605344426895802\n",
      "Current Epoch 10: SELU Loss = 0.02278185557768059 :: RELU Loss = 0.03266511157465478\n"
     ]
    }
   ],
   "source": [
    "num_epochs = 10\n",
    "\n",
    "selu_losses = []\n",
    "relu_losses = []\n",
    "\n",
    "for epoch in range(num_epochs):\n",
    "    epoch_selu_losses = []\n",
    "    epoch_relu_losses = []\n",
    "    \n",
    "    for data in data_loader:\n",
    "        images, labels = data\n",
    "        loss_selu = train(images, labels, model_selu, optimizer_selu, criterion)\n",
    "        loss_relu = train(images, labels, model_relu, optimizer_relu, criterion)\n",
    "        \n",
    "        epoch_selu_losses.append(loss_selu)\n",
    "        epoch_relu_losses.append(loss_relu)\n",
    "        \n",
    "    average_selu_loss = sum(epoch_selu_losses) / float(len(epoch_selu_losses))\n",
    "    average_relu_loss = sum(epoch_relu_losses) / float(len(epoch_relu_losses))\n",
    "    \n",
    "    print('Current Epoch {}: SELU Loss = {} :: RELU Loss = {}'.\n",
    "          format(epoch+1, average_selu_loss, average_relu_loss))\n",
    "    \n",
    "    selu_losses.append(average_selu_loss)\n",
    "    relu_losses.append(average_relu_loss)"
   ]
  },
  {
   "cell_type": "code",
   "execution_count": 43,
   "metadata": {
    "collapsed": false
   },
   "outputs": [
    {
     "data": {
      "image/png": "[encoded data removed]",
      "text/plain": [
       "<matplotlib.figure.Figure at 0x7fd0420f4940>"
      ]
     },
     "metadata": {},
     "output_type": "display_data"
    }
   ],
   "source": [
    "plt.plot(range(len(selu_losses)), selu_losses)\n",
    "plt.plot(range(len(relu_losses)), relu_losses)\n",
    "plt.xlabel('Epoch')\n",
    "plt.ylabel('Loss')\n",
    "plt.title('Loss per Epoch')\n",
    "plt.legend(['SELU Loss', 'RELU Loss'])\n",
    "plt.show()"
   ]
  },
  {
   "cell_type": "code",
   "execution_count": null,
   "metadata": {
    "collapsed": true
   },
   "outputs": [],
   "source": []
  }
 ],
 "metadata": {
  "kernelspec": {
   "display_name": "3.6-ml-cuda",
   "language": "python",
   "name": "3.6-ml-cuda"
  },
  "language_info": {
   "codemirror_mode": {
    "name": "ipython",
    "version": 3
   },
   "file_extension": ".py",
   "mimetype": "text/x-python",
   "name": "python",
   "nbconvert_exporter": "python",
   "pygments_lexer": "ipython3",
   "version": "3.6.1"
  }
 },
 "nbformat": 4,
 "nbformat_minor": 2
}
